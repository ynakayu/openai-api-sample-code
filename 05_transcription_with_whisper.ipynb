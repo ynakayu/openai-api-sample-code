{
  "nbformat": 4,
  "nbformat_minor": 0,
  "metadata": {
    "colab": {
      "provenance": [],
      "authorship_tag": "ABX9TyOzhu8laV4o+oEwRjPTukFh",
      "include_colab_link": true
    },
    "kernelspec": {
      "name": "python3",
      "display_name": "Python 3"
    },
    "language_info": {
      "name": "python"
    }
  },
  "cells": [
    {
      "cell_type": "markdown",
      "metadata": {
        "id": "view-in-github",
        "colab_type": "text"
      },
      "source": [
        "<a href=\"https://colab.research.google.com/github/ynakayu/openai-api-sample-code/blob/main/05_transcription_with_whisper.ipynb\" target=\"_parent\"><img src=\"https://colab.research.google.com/assets/colab-badge.svg\" alt=\"Open In Colab\"/></a>"
      ]
    },
    {
      "cell_type": "markdown",
      "source": [
        "Udemy、Proglus（プログラス）にて公開中の「OpenAI API 完全マスターガイド」のサンプルコードです。\n",
        "\n",
        "該当コースの受講生の方が、個人的な学習の範囲内でご利用いただけます。\n",
        "\n",
        "無断転載を禁止します。\n",
        "\n",
        "該当セクション:「DALL·E 2で画像を生成しよう」\n",
        "\n",
        "(c)Yuta Nakamura, Proglus."
      ],
      "metadata": {
        "id": "YLm7iQJOlzEN"
      }
    },
    {
      "cell_type": "code",
      "execution_count": null,
      "metadata": {
        "id": "FA7_YtXsXCkS"
      },
      "outputs": [],
      "source": [
        "!pip install openai\n",
        "import openai\n",
        "\n",
        "from getpass import getpass\n",
        "secret = getpass(\"Enter the secret value:\")\n",
        "openai.api_key = secret\n"
      ]
    },
    {
      "cell_type": "code",
      "source": [
        "# 05-02-音声ファイルから文字起こしをしよう\n",
        "audio_file = open(\"/content/audio.m4a\", \"rb\")\n",
        "transcript = openai.Audio.transcribe(\"whisper-1\", audio_file)\n",
        "print(transcript)\n",
        "print(transcript[\"text\"])"
      ],
      "metadata": {
        "id": "VDcHxpc7Xy01"
      },
      "execution_count": null,
      "outputs": []
    },
    {
      "cell_type": "code",
      "source": [
        "# 05-03-Whisperで設定できるパラメーターについて知ろう\n",
        "audio_file = open(\"/content/audio.m4a\", \"rb\")\n",
        "transcript = openai.Audio.transcribe(\n",
        "    model=\"whisper-1\",\n",
        "    file=audio_file)\n",
        "print(transcript)\n",
        "print(transcript[\"text\"])"
      ],
      "metadata": {
        "id": "pTgrTAKke0gA"
      },
      "execution_count": null,
      "outputs": []
    },
    {
      "cell_type": "code",
      "source": [
        "# 05-04-レスポンスのフォーマットを指定しよう\n",
        "audio_file = open(\"/content/audio.m4a\", \"rb\")\n",
        "transcript = openai.Audio.transcribe(\n",
        "    model=\"whisper-1\",\n",
        "    file=audio_file,\n",
        "    response_format=\"vtt\"\n",
        "    )\n",
        "print(transcript)\n",
        "# print(transcript[\"text\"])"
      ],
      "metadata": {
        "id": "Ou7NJsajq8uM"
      },
      "execution_count": null,
      "outputs": []
    },
    {
      "cell_type": "code",
      "source": [
        "# 05-05-サンプリング温度を設定しよう\n",
        "audio_file = open(\"/content/audio.m4a\", \"rb\")\n",
        "transcript = openai.Audio.transcribe(\n",
        "    model=\"whisper-1\",\n",
        "    file=audio_file,\n",
        "    response_format=\"text\",\n",
        "    temperature=0.2\n",
        "    )\n",
        "print(transcript)"
      ],
      "metadata": {
        "id": "fH2ROjFguTLB"
      },
      "execution_count": null,
      "outputs": []
    },
    {
      "cell_type": "code",
      "source": [
        "# 05-06-言語を明示的に設定しよう\n",
        "audio_file = open(\"/content/audio.m4a\", \"rb\")\n",
        "transcript = openai.Audio.transcribe(\n",
        "    model=\"whisper-1\",\n",
        "    file=audio_file,\n",
        "    response_format=\"text\",\n",
        "    language=\"ja\"\n",
        "    )\n",
        "print(transcript)"
      ],
      "metadata": {
        "id": "ynpmKX8CxA_L"
      },
      "execution_count": null,
      "outputs": []
    },
    {
      "cell_type": "code",
      "source": [
        "# 05-07-プロンプト\n",
        "audio_file = open(\"/content/audio.m4a\", \"rb\")\n",
        "transcript = openai.Audio.transcribe(\n",
        "    model=\"whisper-1\",\n",
        "    file=audio_file,\n",
        "    response_format=\"text\",\n",
        "    language=\"ja\",\n",
        "    prompt=\"中村祐太, OpenAI\"\n",
        "    )\n",
        "print(transcript)"
      ],
      "metadata": {
        "id": "cPnlunN7yJpv"
      },
      "execution_count": null,
      "outputs": []
    },
    {
      "cell_type": "code",
      "source": [
        "# 05-08-音声ファイルから文字起こし後、翻訳も行おう\n",
        "audio_file = open(\"/content/audio.m4a\", \"rb\")\n",
        "translate = openai.Audio.translate(\"whisper-1\", audio_file, response_format=\"srt\")\n",
        "print(translate)\n",
        "# print(translate[\"text\"])"
      ],
      "metadata": {
        "id": "SfXosNrP0u_I"
      },
      "execution_count": null,
      "outputs": []
    }
  ]
}