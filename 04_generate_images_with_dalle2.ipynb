{
  "nbformat": 4,
  "nbformat_minor": 0,
  "metadata": {
    "colab": {
      "provenance": [],
      "authorship_tag": "ABX9TyMolTK2afIzpLT/JlMIje6e",
      "include_colab_link": true
    },
    "kernelspec": {
      "name": "python3",
      "display_name": "Python 3"
    },
    "language_info": {
      "name": "python"
    }
  },
  "cells": [
    {
      "cell_type": "markdown",
      "metadata": {
        "id": "view-in-github",
        "colab_type": "text"
      },
      "source": [
        "<a href=\"https://colab.research.google.com/github/ynakayu/openai-api-sample-code/blob/main/04_generate_images_with_dalle2.ipynb\" target=\"_parent\"><img src=\"https://colab.research.google.com/assets/colab-badge.svg\" alt=\"Open In Colab\"/></a>"
      ]
    },
    {
      "cell_type": "code",
      "execution_count": null,
      "metadata": {
        "id": "EFupnql-ujyL"
      },
      "outputs": [],
      "source": [
        "!pip install openai"
      ]
    },
    {
      "cell_type": "code",
      "source": [
        "import openai\n",
        "from getpass import getpass\n",
        "import urllib.request\n",
        "from PIL import Image\n",
        "import cv2\n",
        "from google.colab.patches import cv2_imshow\n",
        "\n",
        "import base64\n",
        "import numpy as np\n",
        "\n",
        "secret = getpass('Enter the secret value:')\n",
        "openai.api_key = secret"
      ],
      "metadata": {
        "colab": {
          "base_uri": "https://localhost:8080/"
        },
        "id": "PkuUnmqku8Ow",
        "outputId": "d42d64c5-569d-4ed3-9075-5c0c7e09c48b"
      },
      "execution_count": null,
      "outputs": [
        {
          "name": "stdout",
          "output_type": "stream",
          "text": [
            "Enter the secret value:··········\n"
          ]
        }
      ]
    },
    {
      "cell_type": "code",
      "source": [
        "# 04-03-DALL・Eの画像生成APIを使おう\n",
        "response = openai.Image.create(\n",
        "    prompt=\"An Impressionist oil painting of sunflowers in a purple vase.\",\n",
        "    size=\"256x256\",\n",
        "    n=2\n",
        ")\n",
        "print(response)\n",
        "print(response[\"data\"][0][\"url\"])\n",
        "print(response[\"data\"][1][\"url\"])"
      ],
      "metadata": {
        "id": "idAEB4HmvdLU"
      },
      "execution_count": null,
      "outputs": []
    },
    {
      "cell_type": "code",
      "source": [
        "# 04-04-DALL・Eで生成した画像を保存しよう①\n",
        "response = openai.Image.create(\n",
        "    prompt=\"An Impressionist oil painting of sunflowers in a purple vase.\",\n",
        "    size=\"256x256\",\n",
        "    n=1\n",
        ")\n",
        "print(response)\n",
        "print(response[\"data\"][0][\"url\"])\n",
        "image_url = response[\"data\"][0][\"url\"]\n",
        "urllib.request.urlretrieve(image_url, \"image.png\")\n",
        "img = cv2.imread(\"image.png\")\n",
        "cv2_imshow(img)"
      ],
      "metadata": {
        "id": "sGx8TGpVyfIU"
      },
      "execution_count": null,
      "outputs": []
    },
    {
      "cell_type": "code",
      "source": [
        "# 04-05 DALL・Eで複数バリエーションの画像を生成して保存しよう\n",
        "\n",
        "response = openai.Image.create(\n",
        "    prompt=\"An Impressionist oil painting of sunflowers in a purple vase.\",\n",
        "    size=\"256x256\",\n",
        "    n=5\n",
        ")\n",
        "print(response)\n",
        "\n",
        "for i, image in enumerate(response[\"data\"]):\n",
        "    # image_url = image[\"url\"]\n",
        "    # print(image_url)\n",
        "    # urllib.request.urlretrieve(image_url, f\"image-{i}.png\")\n",
        "    urllib.request.urlretrieve(image[\"url\"], f\"image-{i}.png\")\n"
      ],
      "metadata": {
        "id": "2P1T0Rpg3By_"
      },
      "execution_count": null,
      "outputs": []
    },
    {
      "cell_type": "code",
      "source": [
        "# 04-06-DALL·Eで生成した画像を保存しよう②\n",
        "response = openai.Image.create(\n",
        "    prompt=\"An Impressionist oil painting of sunflowers in a purple vase.\",\n",
        "    size=\"256x256\",\n",
        "    n=1,\n",
        "    response_format=\"b64_json\"\n",
        ")\n",
        "print(response)\n",
        "decoded_image_data = base64.b64decode(response[\"data\"][0][\"b64_json\"])\n",
        "nparr = np.frombuffer(decoded_image_data, np.uint8)\n",
        "decoded_image = cv2.imdecode(nparr, cv2.IMREAD_COLOR)\n",
        "cv2_imshow(decoded_image)\n",
        "\n"
      ],
      "metadata": {
        "id": "QwMwVVU-PA6o"
      },
      "execution_count": null,
      "outputs": []
    }
  ]
}