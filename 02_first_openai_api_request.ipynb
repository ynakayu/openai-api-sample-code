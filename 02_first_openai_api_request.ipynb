{
  "nbformat": 4,
  "nbformat_minor": 0,
  "metadata": {
    "colab": {
      "provenance": [],
      "authorship_tag": "ABX9TyMRwIGtVrtsIt5841you1zg",
      "include_colab_link": true
    },
    "kernelspec": {
      "name": "python3",
      "display_name": "Python 3"
    },
    "language_info": {
      "name": "python"
    }
  },
  "cells": [
    {
      "cell_type": "markdown",
      "metadata": {
        "id": "view-in-github",
        "colab_type": "text"
      },
      "source": [
        "<a href=\"https://colab.research.google.com/github/ynakayu/openai-api-sample-code/blob/main/02_first_openai_api_request.ipynb\" target=\"_parent\"><img src=\"https://colab.research.google.com/assets/colab-badge.svg\" alt=\"Open In Colab\"/></a>"
      ]
    },
    {
      "cell_type": "markdown",
      "source": [
        "Udemy、Proglus（プログラス）にて公開中の「OpenAI API 完全マスターガイド」のサンプルコードです。\n",
        "\n",
        "該当コースの受講生の方が、個人的な学習の範囲内でご利用いただけます。\n",
        "\n",
        "無断転載を禁止します。\n",
        "\n",
        "該当セクション:「はじめてのOpenAI API入門」\n",
        "\n",
        "(c)Yuta Nakamura, Proglus."
      ],
      "metadata": {
        "id": "mGKlqmhcaAlb"
      }
    },
    {
      "cell_type": "code",
      "execution_count": null,
      "metadata": {
        "id": "bc4S2sgLaIb-"
      },
      "outputs": [],
      "source": [
        "# print(\"Hello World!\")"
      ]
    },
    {
      "cell_type": "code",
      "source": [
        "!pip install openai"
      ],
      "metadata": {
        "id": "h3FWdSWCcF-q"
      },
      "execution_count": null,
      "outputs": []
    },
    {
      "cell_type": "code",
      "source": [
        "# 02-04-はじめてのOpenAI APIへリクエストをしよう\n",
        "import openai\n",
        "openai.api_key = \"xxxxx\"\n",
        "\n",
        "completion = openai.ChatCompletion.create(\n",
        "    model=\"gpt-3.5-turbo\",\n",
        "    # model=\"gpt-4\",\n",
        "    messages=[\n",
        "        {\"role\": \"user\", \"content\": \"OpenAI APIとは？\"}\n",
        "    ]\n",
        ")\n",
        "\n",
        "# print(completion)\n",
        "print(completion[\"choices\"][0][\"message\"][\"content\"])"
      ],
      "metadata": {
        "id": "J7-Mlq5tksSe"
      },
      "execution_count": null,
      "outputs": []
    },
    {
      "cell_type": "code",
      "source": [
        "# 02-05-APIキーを非表示にしよう\n",
        "import openai\n",
        "from getpass import getpass\n",
        "secret = getpass('Enter the secret value:')\n",
        "\n",
        "openai.api_key = secret"
      ],
      "metadata": {
        "colab": {
          "base_uri": "https://localhost:8080/"
        },
        "id": "LwV96lS303Fl",
        "outputId": "a48779b5-79a1-4dd2-f38c-bd1871bb8afd"
      },
      "execution_count": null,
      "outputs": [
        {
          "name": "stdout",
          "output_type": "stream",
          "text": [
            "Enter the secret value:··········\n"
          ]
        }
      ]
    },
    {
      "cell_type": "code",
      "source": [
        "# 02-05-APIキーを非表示にしよう\n",
        "completion = openai.ChatCompletion.create(\n",
        "    model=\"gpt-3.5-turbo\",\n",
        "    messages=[\n",
        "        {\"role\": \"user\", \"content\": \"OpenAI APIとは？\"}\n",
        "    ]\n",
        ")\n",
        "print(completion[\"choices\"][0][\"message\"][\"content\"])"
      ],
      "metadata": {
        "id": "TWzdSSSj3eYZ"
      },
      "execution_count": null,
      "outputs": []
    },
    {
      "cell_type": "code",
      "source": [
        "# 02-06 戻り値について確認しよう\n",
        "completion = openai.ChatCompletion.create(\n",
        "    model=\"gpt-3.5-turbo\",\n",
        "    messages=[\n",
        "        {\"role\": \"user\", \"content\": \"OpenAI APIとは？\"}\n",
        "    ]\n",
        ")\n",
        "print(completion[\"choices\"][0][\"message\"][\"content\"])\n",
        "print(completion)"
      ],
      "metadata": {
        "id": "OIVNGsuB5A0f"
      },
      "execution_count": null,
      "outputs": []
    },
    {
      "cell_type": "code",
      "source": [
        "# 02-08 max_tokensを設定しよう\n",
        "completion = openai.ChatCompletion.create(\n",
        "    model=\"gpt-3.5-turbo\",\n",
        "    messages=[\n",
        "        {\"role\": \"user\", \"content\": \"日本の都道府県におけるりんごの生産量のランキングTOP10は？\"}\n",
        "    ],\n",
        "    max_tokens=64\n",
        ")\n",
        "print(completion[\"choices\"][0][\"message\"][\"content\"])\n",
        "print(completion)"
      ],
      "metadata": {
        "id": "u4csWSFRQc-S"
      },
      "execution_count": null,
      "outputs": []
    },
    {
      "cell_type": "code",
      "source": [
        "# 02-09-ストップシーケンスを設定しよう\n",
        "completion = openai.ChatCompletion.create(\n",
        "    model=\"gpt-3.5-turbo\",\n",
        "    messages=[\n",
        "        {\"role\": \"user\", \"content\": \"日本の都道府県におけるりんごの生産量のランキングTOP5は？\"}\n",
        "    ],\n",
        "    # stop=\"6.\"\n",
        "    # stop=[\"6.\", \"6位\"]\n",
        "    stop=\"\\n\"\n",
        ")\n",
        "print(completion[\"choices\"][0][\"message\"][\"content\"])\n",
        "print(completion)"
      ],
      "metadata": {
        "id": "rWcvET0vWUVB"
      },
      "execution_count": null,
      "outputs": []
    },
    {
      "cell_type": "code",
      "source": [
        "# 02-09-nを設定しよう\n",
        "completion = openai.ChatCompletion.create(\n",
        "    model=\"gpt-3.5-turbo\",\n",
        "    messages=[\n",
        "        {\"role\": \"user\", \"content\": \"ビジネスに役立つことわざを1個教えて\"}\n",
        "    ],\n",
        "    n=3,\n",
        "    max_tokens=5\n",
        ")\n",
        "print(completion[\"choices\"][0][\"message\"][\"content\"])\n",
        "print(completion[\"choices\"][1][\"message\"][\"content\"])\n",
        "print(completion[\"choices\"][2][\"message\"][\"content\"])\n",
        "print(completion)"
      ],
      "metadata": {
        "id": "NT7PlY2HY6MB"
      },
      "execution_count": null,
      "outputs": []
    },
    {
      "cell_type": "code",
      "source": [
        "# 02-11-temperatureとtop_nを設定しよう\n",
        "completion = openai.ChatCompletion.create(\n",
        "    model=\"gpt-3.5-turbo\",\n",
        "    messages=[\n",
        "        {\"role\": \"user\", \"content\": \"OpenAIとは？\"}\n",
        "    ],\n",
        "    # temperature=0.5,\n",
        "    n=5,\n",
        "    max_tokens=50,\n",
        "    top_p=0\n",
        ")\n",
        "print(completion[\"choices\"][0][\"message\"][\"content\"])\n",
        "print(completion[\"choices\"][1][\"message\"][\"content\"])\n",
        "print(completion[\"choices\"][2][\"message\"][\"content\"])\n",
        "print(completion[\"choices\"][3][\"message\"][\"content\"])\n",
        "print(completion[\"choices\"][4][\"message\"][\"content\"])\n",
        "print(completion)"
      ],
      "metadata": {
        "id": "JgTE10IXhNsu"
      },
      "execution_count": null,
      "outputs": []
    },
    {
      "cell_type": "code",
      "source": [
        "# 02-12-一連の会話を設定しよう\n",
        "completion = openai.ChatCompletion.create(\n",
        "    model=\"gpt-3.5-turbo\",\n",
        "    messages=[\n",
        "        {\"role\": \"system\", \"content\": \"あなたは優秀な司書です。\"},\n",
        "        {\"role\": \"system\", \"content\": \"回答文の末尾に「知らんけど」をつけて。\"},\n",
        "        {\"role\": \"user\", \"content\": \"面白いSFの本を探しています。一番のおすすめを教えて。\"},\n",
        "        {\"role\": \"assistant\", \"content\": \"私のおすすめは、「ハイペリオン」です。このSF小説は、ダン・シモンズによって書かれ、エピソード形式で展開される物語です。異なるキャラクターたちの個別の物語が、大きな謎につながっていく形式が特徴で、複雑なプロットや深い哲学的テーマが織り込まれています。また、時間旅行や人工知能などの要素も含まれており、読者を飽きさせることなく引き込まれることでしょう。\"},\n",
        "        {\"role\": \"user\", \"content\": \"映画も好きなのですが、その本に近い内容のSF映画でおすすめはありますか？\"},\n",
        "    ]\n",
        ")\n",
        "print(completion[\"choices\"][0][\"message\"][\"content\"])\n",
        "print(completion)"
      ],
      "metadata": {
        "id": "S3gSu8FVmsDu"
      },
      "execution_count": null,
      "outputs": []
    }
  ]
}