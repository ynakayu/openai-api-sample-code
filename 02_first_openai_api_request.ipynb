{
  "nbformat": 4,
  "nbformat_minor": 0,
  "metadata": {
    "colab": {
      "provenance": [],
      "authorship_tag": "ABX9TyMRwIGtVrtsIt5841you1zg",
      "include_colab_link": true
    },
    "kernelspec": {
      "name": "python3",
      "display_name": "Python 3"
    },
    "language_info": {
      "name": "python"
    }
  },
  "cells": [
    {
      "cell_type": "markdown",
      "metadata": {
        "id": "view-in-github",
        "colab_type": "text"
      },
      "source": [
        "<a href=\"https://colab.research.google.com/github/ynakayu/openai-api-sample-code/blob/main/02_first_openai_api_request.ipynb\" target=\"_parent\"><img src=\"https://colab.research.google.com/assets/colab-badge.svg\" alt=\"Open In Colab\"/></a>"
      ]
    },
    {
      "cell_type": "markdown",
      "source": [
        "Udemy、Proglus（プログラス）にて公開中の「OpenAI API 完全マスターガイド」のサンプルコードです。\n",
        "\n",
        "該当コースの受講生の方が、個人的な学習の範囲内でご利用いただけます。\n",
        "\n",
        "無断転載を禁止します。\n",
        "\n",
        "該当セクション:「はじめてのOpenAI API入門」\n",
        "\n",
        "(c)Yuta Nakamura, Proglus."
      ],
      "metadata": {
        "id": "mGKlqmhcaAlb"
      }
    },
    {
      "cell_type": "code",
      "execution_count": null,
      "metadata": {
        "id": "bc4S2sgLaIb-"
      },
      "outputs": [],
      "source": [
        "# print(\"Hello World!\")"
      ]
    },
    {
      "cell_type": "code",
      "source": [
        "!pip install openai"
      ],
      "metadata": {
        "colab": {
          "base_uri": "https://localhost:8080/"
        },
        "id": "h3FWdSWCcF-q",
        "outputId": "d1b9303a-ab71-479f-8df4-3e33500f881c"
      },
      "execution_count": null,
      "outputs": [
        {
          "output_type": "stream",
          "name": "stdout",
          "text": [
            "Collecting openai\n",
            "  Downloading openai-0.28.0-py3-none-any.whl (76 kB)\n",
            "\u001b[2K     \u001b[90m━━━━━━━━━━━━━━━━━━━━━━━━━━━━━━━━━━━━━━━━\u001b[0m \u001b[32m76.5/76.5 kB\u001b[0m \u001b[31m1.5 MB/s\u001b[0m eta \u001b[36m0:00:00\u001b[0m\n",
            "\u001b[?25hRequirement already satisfied: requests>=2.20 in /usr/local/lib/python3.10/dist-packages (from openai) (2.31.0)\n",
            "Requirement already satisfied: tqdm in /usr/local/lib/python3.10/dist-packages (from openai) (4.66.1)\n",
            "Requirement already satisfied: aiohttp in /usr/local/lib/python3.10/dist-packages (from openai) (3.8.5)\n",
            "Requirement already satisfied: charset-normalizer<4,>=2 in /usr/local/lib/python3.10/dist-packages (from requests>=2.20->openai) (3.2.0)\n",
            "Requirement already satisfied: idna<4,>=2.5 in /usr/local/lib/python3.10/dist-packages (from requests>=2.20->openai) (3.4)\n",
            "Requirement already satisfied: urllib3<3,>=1.21.1 in /usr/local/lib/python3.10/dist-packages (from requests>=2.20->openai) (2.0.4)\n",
            "Requirement already satisfied: certifi>=2017.4.17 in /usr/local/lib/python3.10/dist-packages (from requests>=2.20->openai) (2023.7.22)\n",
            "Requirement already satisfied: attrs>=17.3.0 in /usr/local/lib/python3.10/dist-packages (from aiohttp->openai) (23.1.0)\n",
            "Requirement already satisfied: multidict<7.0,>=4.5 in /usr/local/lib/python3.10/dist-packages (from aiohttp->openai) (6.0.4)\n",
            "Requirement already satisfied: async-timeout<5.0,>=4.0.0a3 in /usr/local/lib/python3.10/dist-packages (from aiohttp->openai) (4.0.3)\n",
            "Requirement already satisfied: yarl<2.0,>=1.0 in /usr/local/lib/python3.10/dist-packages (from aiohttp->openai) (1.9.2)\n",
            "Requirement already satisfied: frozenlist>=1.1.1 in /usr/local/lib/python3.10/dist-packages (from aiohttp->openai) (1.4.0)\n",
            "Requirement already satisfied: aiosignal>=1.1.2 in /usr/local/lib/python3.10/dist-packages (from aiohttp->openai) (1.3.1)\n",
            "Installing collected packages: openai\n",
            "Successfully installed openai-0.28.0\n"
          ]
        }
      ]
    },
    {
      "cell_type": "code",
      "source": [
        "# 02-04-はじめてのOpenAI APIへリクエストをしよう\n",
        "import openai\n",
        "openai.api_key = \"xxxxx\"\n",
        "\n",
        "completion = openai.ChatCompletion.create(\n",
        "    model=\"gpt-3.5-turbo\",\n",
        "    # model=\"gpt-4\",\n",
        "    messages=[\n",
        "        {\"role\": \"user\", \"content\": \"OpenAI APIとは？\"}\n",
        "    ]\n",
        ")\n",
        "\n",
        "# print(completion)\n",
        "print(completion[\"choices\"][0][\"message\"][\"content\"])"
      ],
      "metadata": {
        "colab": {
          "base_uri": "https://localhost:8080/"
        },
        "id": "J7-Mlq5tksSe",
        "outputId": "6eeceadf-568d-44ff-dca6-d3dcacf07642"
      },
      "execution_count": null,
      "outputs": [
        {
          "output_type": "stream",
          "name": "stdout",
          "text": [
            "OpenAI APIは、OpenAIが提供する人工知能（AI）モデルやツールキットにアクセスするためのプログラムインターフェース（API）です。OpenAI APIを使用することで、開発者は自然言語処理（NLP）のタスクを実行するためのパワフルなAIモデルにアクセスできます。具体的には、文章の生成、質問応答、文章の要約、文脈に基づいた文章補完などのタスクに利用することができます。OpenAI APIは、開発者がAIによる処理を簡単に組み込むことができるよう設計されており、プログラミング言語を問わず様々なプラットフォームで利用することができます。\n"
          ]
        }
      ]
    },
    {
      "cell_type": "code",
      "source": [
        "# 02-05-APIキーを非表示にしよう\n",
        "import openai\n",
        "from getpass import getpass\n",
        "secret = getpass('Enter the secret value:')\n",
        "\n",
        "openai.api_key = secret"
      ],
      "metadata": {
        "colab": {
          "base_uri": "https://localhost:8080/"
        },
        "id": "LwV96lS303Fl",
        "outputId": "a48779b5-79a1-4dd2-f38c-bd1871bb8afd"
      },
      "execution_count": null,
      "outputs": [
        {
          "name": "stdout",
          "output_type": "stream",
          "text": [
            "Enter the secret value:··········\n"
          ]
        }
      ]
    },
    {
      "cell_type": "code",
      "source": [
        "# 02-05-APIキーを非表示にしよう\n",
        "completion = openai.ChatCompletion.create(\n",
        "    model=\"gpt-3.5-turbo\",\n",
        "    messages=[\n",
        "        {\"role\": \"user\", \"content\": \"OpenAI APIとは？\"}\n",
        "    ]\n",
        ")\n",
        "print(completion[\"choices\"][0][\"message\"][\"content\"])"
      ],
      "metadata": {
        "colab": {
          "base_uri": "https://localhost:8080/"
        },
        "id": "TWzdSSSj3eYZ",
        "outputId": "ba26ce46-c5ab-4766-e6e5-1b3664a17852"
      },
      "execution_count": null,
      "outputs": [
        {
          "output_type": "stream",
          "name": "stdout",
          "text": [
            "{\n",
            "  \"id\": \"chatcmpl-7yY03DvvLZ6o1gwvglV4fJG1BkCCR\",\n",
            "  \"object\": \"chat.completion\",\n",
            "  \"created\": 1694664731,\n",
            "  \"model\": \"gpt-3.5-turbo-0613\",\n",
            "  \"choices\": [\n",
            "    {\n",
            "      \"index\": 0,\n",
            "      \"message\": {\n",
            "        \"role\": \"assistant\",\n",
            "        \"content\": \"OpenAI API\\u306f\\u3001OpenAI\\u304c\\u63d0\\u4f9b\\u3057\\u3066\\u3044\\u308b\\u6a5f\\u68b0\\u5b66\\u7fd2\\u30e2\\u30c7\\u30eb\\u3092\\u5229\\u7528\\u3059\\u308b\\u305f\\u3081\\u306e\\u30aa\\u30fc\\u30d7\\u30f3API\\u306e\\u3053\\u3068\\u3067\\u3059\\u3002OpenAI\\u306e\\u9ad8\\u5ea6\\u306a\\u81ea\\u7136\\u8a00\\u8a9e\\u51e6\\u7406\\u30e2\\u30c7\\u30eb\\u3092\\u5229\\u7528\\u3059\\u308b\\u3053\\u3068\\u3067\\u3001\\u958b\\u767a\\u8005\\u306f\\u30c6\\u30ad\\u30b9\\u30c8\\u751f\\u6210\\u3001\\u6587\\u7ae0\\u306e\\u8981\\u7d04\\u3001\\u8cea\\u554f\\u5fdc\\u7b54\\u3001\\u611f\\u60c5\\u5206\\u6790\\u306a\\u3069\\u69d8\\u3005\\u306a\\u81ea\\u7136\\u8a00\\u8a9e\\u51e6\\u7406\\u306e\\u30bf\\u30b9\\u30af\\u3092\\u7c21\\u5358\\u306b\\u5b9f\\u884c\\u3059\\u308b\\u3053\\u3068\\u304c\\u3067\\u304d\\u307e\\u3059\\u3002OpenAI API\\u306f\\u3001RESTful API\\u3068\\u3057\\u3066\\u63d0\\u4f9b\\u3055\\u308c\\u3066\\u304a\\u308a\\u3001HTTP\\u30ea\\u30af\\u30a8\\u30b9\\u30c8\\u3092\\u9001\\u4fe1\\u3057\\u3066\\u30e2\\u30c7\\u30eb\\u306b\\u30c6\\u30ad\\u30b9\\u30c8\\u3092\\u5165\\u529b\\u3057\\u3001\\u5fdc\\u7b54\\u3092\\u53d7\\u3051\\u53d6\\u308b\\u3053\\u3068\\u304c\\u3067\\u304d\\u307e\\u3059\\u3002\\u3055\\u307e\\u3056\\u307e\\u306a\\u30a2\\u30d7\\u30ea\\u30b1\\u30fc\\u30b7\\u30e7\\u30f3\\u3084\\u30b5\\u30fc\\u30d3\\u30b9\\u3067\\u306e\\u5229\\u7528\\u304c\\u671f\\u5f85\\u3055\\u308c\\u3066\\u3044\\u307e\\u3059\\u3002\"\n",
            "      },\n",
            "      \"finish_reason\": \"stop\"\n",
            "    }\n",
            "  ],\n",
            "  \"usage\": {\n",
            "    \"prompt_tokens\": 13,\n",
            "    \"completion_tokens\": 222,\n",
            "    \"total_tokens\": 235\n",
            "  }\n",
            "}\n",
            "OpenAI APIは、OpenAIが提供している機械学習モデルを利用するためのオープンAPIのことです。OpenAIの高度な自然言語処理モデルを利用することで、開発者はテキスト生成、文章の要約、質問応答、感情分析など様々な自然言語処理のタスクを簡単に実行することができます。OpenAI APIは、RESTful APIとして提供されており、HTTPリクエストを送信してモデルにテキストを入力し、応答を受け取ることができます。さまざまなアプリケーションやサービスでの利用が期待されています。\n"
          ]
        }
      ]
    },
    {
      "cell_type": "code",
      "source": [
        "# 02-06 戻り値について確認しよう\n",
        "completion = openai.ChatCompletion.create(\n",
        "    model=\"gpt-3.5-turbo\",\n",
        "    messages=[\n",
        "        {\"role\": \"user\", \"content\": \"OpenAI APIとは？\"}\n",
        "    ]\n",
        ")\n",
        "print(completion[\"choices\"][0][\"message\"][\"content\"])\n",
        "print(completion)"
      ],
      "metadata": {
        "colab": {
          "base_uri": "https://localhost:8080/"
        },
        "id": "OIVNGsuB5A0f",
        "outputId": "dbf60277-3775-49fb-ce80-769102ef0799"
      },
      "execution_count": null,
      "outputs": [
        {
          "output_type": "stream",
          "name": "stdout",
          "text": [
            "OpenAI APIは、人工知能技術を利用して自然言語処理や文章生成などのタスクを実行するために、OpenAIが提供するインターフェースです。開発者はAPIを使用して、様々なアプリケーションやサービスに人工知能の機能を統合することができます。\n",
            "\n",
            "OpenAI APIは、GPT（Generative Pre-trained Transformer）と呼ばれるモデルをベースにしており、大規模なデータセットを学習して豊富な言語知識を持つように訓練されています。APIを使うことで、文章生成や自然言語理解、文章の要約、翻訳、感情分析などの機能を利用することができます。\n",
            "\n",
            "OpenAI APIは、様々なユースケースで利用されており、例えば自動応答システム、コンテンツ生成、文章の編集支援、言語モデルを利用したAIアプリケーションなどの開発に役立てることができます。また、APIはREST APIとして提供されており、様々なプログラミング言語から利用することができます。\n",
            "{\n",
            "  \"id\": \"chatcmpl-812kfti1qbjJROIzmz2jLd6Kn5O0O\",\n",
            "  \"object\": \"chat.completion\",\n",
            "  \"created\": 1695259597,\n",
            "  \"model\": \"gpt-3.5-turbo-0613\",\n",
            "  \"choices\": [\n",
            "    {\n",
            "      \"index\": 0,\n",
            "      \"message\": {\n",
            "        \"role\": \"assistant\",\n",
            "        \"content\": \"OpenAI API\\u306f\\u3001\\u4eba\\u5de5\\u77e5\\u80fd\\u6280\\u8853\\u3092\\u5229\\u7528\\u3057\\u3066\\u81ea\\u7136\\u8a00\\u8a9e\\u51e6\\u7406\\u3084\\u6587\\u7ae0\\u751f\\u6210\\u306a\\u3069\\u306e\\u30bf\\u30b9\\u30af\\u3092\\u5b9f\\u884c\\u3059\\u308b\\u305f\\u3081\\u306b\\u3001OpenAI\\u304c\\u63d0\\u4f9b\\u3059\\u308b\\u30a4\\u30f3\\u30bf\\u30fc\\u30d5\\u30a7\\u30fc\\u30b9\\u3067\\u3059\\u3002\\u958b\\u767a\\u8005\\u306fAPI\\u3092\\u4f7f\\u7528\\u3057\\u3066\\u3001\\u69d8\\u3005\\u306a\\u30a2\\u30d7\\u30ea\\u30b1\\u30fc\\u30b7\\u30e7\\u30f3\\u3084\\u30b5\\u30fc\\u30d3\\u30b9\\u306b\\u4eba\\u5de5\\u77e5\\u80fd\\u306e\\u6a5f\\u80fd\\u3092\\u7d71\\u5408\\u3059\\u308b\\u3053\\u3068\\u304c\\u3067\\u304d\\u307e\\u3059\\u3002\\n\\nOpenAI API\\u306f\\u3001GPT\\uff08Generative Pre-trained Transformer\\uff09\\u3068\\u547c\\u3070\\u308c\\u308b\\u30e2\\u30c7\\u30eb\\u3092\\u30d9\\u30fc\\u30b9\\u306b\\u3057\\u3066\\u304a\\u308a\\u3001\\u5927\\u898f\\u6a21\\u306a\\u30c7\\u30fc\\u30bf\\u30bb\\u30c3\\u30c8\\u3092\\u5b66\\u7fd2\\u3057\\u3066\\u8c4a\\u5bcc\\u306a\\u8a00\\u8a9e\\u77e5\\u8b58\\u3092\\u6301\\u3064\\u3088\\u3046\\u306b\\u8a13\\u7df4\\u3055\\u308c\\u3066\\u3044\\u307e\\u3059\\u3002API\\u3092\\u4f7f\\u3046\\u3053\\u3068\\u3067\\u3001\\u6587\\u7ae0\\u751f\\u6210\\u3084\\u81ea\\u7136\\u8a00\\u8a9e\\u7406\\u89e3\\u3001\\u6587\\u7ae0\\u306e\\u8981\\u7d04\\u3001\\u7ffb\\u8a33\\u3001\\u611f\\u60c5\\u5206\\u6790\\u306a\\u3069\\u306e\\u6a5f\\u80fd\\u3092\\u5229\\u7528\\u3059\\u308b\\u3053\\u3068\\u304c\\u3067\\u304d\\u307e\\u3059\\u3002\\n\\nOpenAI API\\u306f\\u3001\\u69d8\\u3005\\u306a\\u30e6\\u30fc\\u30b9\\u30b1\\u30fc\\u30b9\\u3067\\u5229\\u7528\\u3055\\u308c\\u3066\\u304a\\u308a\\u3001\\u4f8b\\u3048\\u3070\\u81ea\\u52d5\\u5fdc\\u7b54\\u30b7\\u30b9\\u30c6\\u30e0\\u3001\\u30b3\\u30f3\\u30c6\\u30f3\\u30c4\\u751f\\u6210\\u3001\\u6587\\u7ae0\\u306e\\u7de8\\u96c6\\u652f\\u63f4\\u3001\\u8a00\\u8a9e\\u30e2\\u30c7\\u30eb\\u3092\\u5229\\u7528\\u3057\\u305fAI\\u30a2\\u30d7\\u30ea\\u30b1\\u30fc\\u30b7\\u30e7\\u30f3\\u306a\\u3069\\u306e\\u958b\\u767a\\u306b\\u5f79\\u7acb\\u3066\\u308b\\u3053\\u3068\\u304c\\u3067\\u304d\\u307e\\u3059\\u3002\\u307e\\u305f\\u3001API\\u306fREST API\\u3068\\u3057\\u3066\\u63d0\\u4f9b\\u3055\\u308c\\u3066\\u304a\\u308a\\u3001\\u69d8\\u3005\\u306a\\u30d7\\u30ed\\u30b0\\u30e9\\u30df\\u30f3\\u30b0\\u8a00\\u8a9e\\u304b\\u3089\\u5229\\u7528\\u3059\\u308b\\u3053\\u3068\\u304c\\u3067\\u304d\\u307e\\u3059\\u3002\"\n",
            "      },\n",
            "      \"finish_reason\": \"stop\"\n",
            "    }\n",
            "  ],\n",
            "  \"usage\": {\n",
            "    \"prompt_tokens\": 13,\n",
            "    \"completion_tokens\": 371,\n",
            "    \"total_tokens\": 384\n",
            "  }\n",
            "}\n"
          ]
        }
      ]
    },
    {
      "cell_type": "code",
      "source": [
        "# 02-08 max_tokensを設定しよう\n",
        "completion = openai.ChatCompletion.create(\n",
        "    model=\"gpt-3.5-turbo\",\n",
        "    messages=[\n",
        "        {\"role\": \"user\", \"content\": \"日本の都道府県におけるりんごの生産量のランキングTOP10は？\"}\n",
        "    ],\n",
        "    max_tokens=64\n",
        ")\n",
        "print(completion[\"choices\"][0][\"message\"][\"content\"])\n",
        "print(completion)"
      ],
      "metadata": {
        "colab": {
          "base_uri": "https://localhost:8080/"
        },
        "id": "u4csWSFRQc-S",
        "outputId": "003ec8ac-adfd-4e5c-c0b1-9605c22cda20"
      },
      "execution_count": null,
      "outputs": [
        {
          "output_type": "stream",
          "name": "stdout",
          "text": [
            "2021年の日本の都道府県におけるりんごの生産量のランキングTOP10は以下の通りです。\n",
            "\n",
            "1. 青森県\n",
            "2. 山形県\n",
            "3. 長野県\n",
            "4.\n",
            "{\n",
            "  \"id\": \"chatcmpl-7yvYNzkzlozYDtjUSliPiP8rG5msM\",\n",
            "  \"object\": \"chat.completion\",\n",
            "  \"created\": 1694755271,\n",
            "  \"model\": \"gpt-3.5-turbo-0613\",\n",
            "  \"choices\": [\n",
            "    {\n",
            "      \"index\": 0,\n",
            "      \"message\": {\n",
            "        \"role\": \"assistant\",\n",
            "        \"content\": \"2021\\u5e74\\u306e\\u65e5\\u672c\\u306e\\u90fd\\u9053\\u5e9c\\u770c\\u306b\\u304a\\u3051\\u308b\\u308a\\u3093\\u3054\\u306e\\u751f\\u7523\\u91cf\\u306e\\u30e9\\u30f3\\u30ad\\u30f3\\u30b0TOP10\\u306f\\u4ee5\\u4e0b\\u306e\\u901a\\u308a\\u3067\\u3059\\u3002\\n\\n1. \\u9752\\u68ee\\u770c\\n2. \\u5c71\\u5f62\\u770c\\n3. \\u9577\\u91ce\\u770c\\n4.\"\n",
            "      },\n",
            "      \"finish_reason\": \"length\"\n",
            "    }\n",
            "  ],\n",
            "  \"usage\": {\n",
            "    \"prompt_tokens\": 35,\n",
            "    \"completion_tokens\": 64,\n",
            "    \"total_tokens\": 99\n",
            "  }\n",
            "}\n"
          ]
        }
      ]
    },
    {
      "cell_type": "code",
      "source": [
        "# 02-09-ストップシーケンスを設定しよう\n",
        "completion = openai.ChatCompletion.create(\n",
        "    model=\"gpt-3.5-turbo\",\n",
        "    messages=[\n",
        "        {\"role\": \"user\", \"content\": \"日本の都道府県におけるりんごの生産量のランキングTOP5は？\"}\n",
        "    ],\n",
        "    # stop=\"6.\"\n",
        "    # stop=[\"6.\", \"6位\"]\n",
        "    stop=\"\\n\"\n",
        ")\n",
        "print(completion[\"choices\"][0][\"message\"][\"content\"])\n",
        "print(completion)"
      ],
      "metadata": {
        "colab": {
          "base_uri": "https://localhost:8080/"
        },
        "id": "rWcvET0vWUVB",
        "outputId": "94eb7b06-c6ea-4237-83ea-359d7f5cecba"
      },
      "execution_count": null,
      "outputs": [
        {
          "output_type": "stream",
          "name": "stdout",
          "text": [
            "日本の都道府県におけるりんごの生産量のランキングTOP5は以下の通りです：\n",
            "{\n",
            "  \"id\": \"chatcmpl-7yvwtU9VxtsUY6VCBMsJ4s3OE7qIP\",\n",
            "  \"object\": \"chat.completion\",\n",
            "  \"created\": 1694756791,\n",
            "  \"model\": \"gpt-3.5-turbo-0613\",\n",
            "  \"choices\": [\n",
            "    {\n",
            "      \"index\": 0,\n",
            "      \"message\": {\n",
            "        \"role\": \"assistant\",\n",
            "        \"content\": \"\\u65e5\\u672c\\u306e\\u90fd\\u9053\\u5e9c\\u770c\\u306b\\u304a\\u3051\\u308b\\u308a\\u3093\\u3054\\u306e\\u751f\\u7523\\u91cf\\u306e\\u30e9\\u30f3\\u30ad\\u30f3\\u30b0TOP5\\u306f\\u4ee5\\u4e0b\\u306e\\u901a\\u308a\\u3067\\u3059\\uff1a\"\n",
            "      },\n",
            "      \"finish_reason\": \"stop\"\n",
            "    }\n",
            "  ],\n",
            "  \"usage\": {\n",
            "    \"prompt_tokens\": 35,\n",
            "    \"completion_tokens\": 33,\n",
            "    \"total_tokens\": 68\n",
            "  }\n",
            "}\n"
          ]
        }
      ]
    },
    {
      "cell_type": "code",
      "source": [
        "# 02-09-nを設定しよう\n",
        "completion = openai.ChatCompletion.create(\n",
        "    model=\"gpt-3.5-turbo\",\n",
        "    messages=[\n",
        "        {\"role\": \"user\", \"content\": \"ビジネスに役立つことわざを1個教えて\"}\n",
        "    ],\n",
        "    n=3,\n",
        "    max_tokens=5\n",
        ")\n",
        "print(completion[\"choices\"][0][\"message\"][\"content\"])\n",
        "print(completion[\"choices\"][1][\"message\"][\"content\"])\n",
        "print(completion[\"choices\"][2][\"message\"][\"content\"])\n",
        "print(completion)"
      ],
      "metadata": {
        "colab": {
          "base_uri": "https://localhost:8080/"
        },
        "id": "NT7PlY2HY6MB",
        "outputId": "2b0035bc-6a12-4e4e-cac7-ef89f9e9830b"
      },
      "execution_count": null,
      "outputs": [
        {
          "output_type": "stream",
          "name": "stdout",
          "text": [
            "「魚心\n",
            "「雨降\n",
            "「時間は金な\n",
            "{\n",
            "  \"id\": \"chatcmpl-7ywVqaFPsaTSX8rPTKNp8IC4PQE3Y\",\n",
            "  \"object\": \"chat.completion\",\n",
            "  \"created\": 1694758958,\n",
            "  \"model\": \"gpt-3.5-turbo-0613\",\n",
            "  \"choices\": [\n",
            "    {\n",
            "      \"index\": 0,\n",
            "      \"message\": {\n",
            "        \"role\": \"assistant\",\n",
            "        \"content\": \"\\u300c\\u9b5a\\u5fc3\"\n",
            "      },\n",
            "      \"finish_reason\": \"length\"\n",
            "    },\n",
            "    {\n",
            "      \"index\": 1,\n",
            "      \"message\": {\n",
            "        \"role\": \"assistant\",\n",
            "        \"content\": \"\\u300c\\u96e8\\u964d\"\n",
            "      },\n",
            "      \"finish_reason\": \"length\"\n",
            "    },\n",
            "    {\n",
            "      \"index\": 2,\n",
            "      \"message\": {\n",
            "        \"role\": \"assistant\",\n",
            "        \"content\": \"\\u300c\\u6642\\u9593\\u306f\\u91d1\\u306a\"\n",
            "      },\n",
            "      \"finish_reason\": \"length\"\n",
            "    }\n",
            "  ],\n",
            "  \"usage\": {\n",
            "    \"prompt_tokens\": 29,\n",
            "    \"completion_tokens\": 15,\n",
            "    \"total_tokens\": 44\n",
            "  }\n",
            "}\n"
          ]
        }
      ]
    },
    {
      "cell_type": "code",
      "source": [
        "# 02-11-temperatureとtop_nを設定しよう\n",
        "completion = openai.ChatCompletion.create(\n",
        "    model=\"gpt-3.5-turbo\",\n",
        "    messages=[\n",
        "        {\"role\": \"user\", \"content\": \"OpenAIとは？\"}\n",
        "    ],\n",
        "    # temperature=0.5,\n",
        "    n=5,\n",
        "    max_tokens=50,\n",
        "    top_p=0\n",
        ")\n",
        "print(completion[\"choices\"][0][\"message\"][\"content\"])\n",
        "print(completion[\"choices\"][1][\"message\"][\"content\"])\n",
        "print(completion[\"choices\"][2][\"message\"][\"content\"])\n",
        "print(completion[\"choices\"][3][\"message\"][\"content\"])\n",
        "print(completion[\"choices\"][4][\"message\"][\"content\"])\n",
        "print(completion)"
      ],
      "metadata": {
        "colab": {
          "base_uri": "https://localhost:8080/"
        },
        "id": "JgTE10IXhNsu",
        "outputId": "1c33f823-3189-4155-b6e8-b72c7dee97e9"
      },
      "execution_count": null,
      "outputs": [
        {
          "output_type": "stream",
          "name": "stdout",
          "text": [
            "OpenAIは、人工知能（AI）の研究と開発を行う非営利組織です。OpenAIは、AIの利用が人類全体の\n",
            "OpenAIは、人工知能（AI）の研究と開発を行う非営利組織です。OpenAIは、AIの利用が人類全体の\n",
            "OpenAIは、人工知能（AI）の研究と開発を行う非営利組織です。OpenAIは、AIの利用が人類全体の\n",
            "OpenAIは、人工知能（AI）の研究と開発を行う非営利組織です。OpenAIは、AIの利用が人類全体の\n",
            "OpenAIは、人工知能（AI）の研究と開発を行う非営利組織です。OpenAIは、AIの利用が人類全体の\n",
            "{\n",
            "  \"id\": \"chatcmpl-7ywthqxm5g0thFCka8pHLrrRdUV8w\",\n",
            "  \"object\": \"chat.completion\",\n",
            "  \"created\": 1694760437,\n",
            "  \"model\": \"gpt-3.5-turbo-0613\",\n",
            "  \"choices\": [\n",
            "    {\n",
            "      \"index\": 0,\n",
            "      \"message\": {\n",
            "        \"role\": \"assistant\",\n",
            "        \"content\": \"OpenAI\\u306f\\u3001\\u4eba\\u5de5\\u77e5\\u80fd\\uff08AI\\uff09\\u306e\\u7814\\u7a76\\u3068\\u958b\\u767a\\u3092\\u884c\\u3046\\u975e\\u55b6\\u5229\\u7d44\\u7e54\\u3067\\u3059\\u3002OpenAI\\u306f\\u3001AI\\u306e\\u5229\\u7528\\u304c\\u4eba\\u985e\\u5168\\u4f53\\u306e\"\n",
            "      },\n",
            "      \"finish_reason\": \"length\"\n",
            "    },\n",
            "    {\n",
            "      \"index\": 1,\n",
            "      \"message\": {\n",
            "        \"role\": \"assistant\",\n",
            "        \"content\": \"OpenAI\\u306f\\u3001\\u4eba\\u5de5\\u77e5\\u80fd\\uff08AI\\uff09\\u306e\\u7814\\u7a76\\u3068\\u958b\\u767a\\u3092\\u884c\\u3046\\u975e\\u55b6\\u5229\\u7d44\\u7e54\\u3067\\u3059\\u3002OpenAI\\u306f\\u3001AI\\u306e\\u5229\\u7528\\u304c\\u4eba\\u985e\\u5168\\u4f53\\u306e\"\n",
            "      },\n",
            "      \"finish_reason\": \"length\"\n",
            "    },\n",
            "    {\n",
            "      \"index\": 2,\n",
            "      \"message\": {\n",
            "        \"role\": \"assistant\",\n",
            "        \"content\": \"OpenAI\\u306f\\u3001\\u4eba\\u5de5\\u77e5\\u80fd\\uff08AI\\uff09\\u306e\\u7814\\u7a76\\u3068\\u958b\\u767a\\u3092\\u884c\\u3046\\u975e\\u55b6\\u5229\\u7d44\\u7e54\\u3067\\u3059\\u3002OpenAI\\u306f\\u3001AI\\u306e\\u5229\\u7528\\u304c\\u4eba\\u985e\\u5168\\u4f53\\u306e\"\n",
            "      },\n",
            "      \"finish_reason\": \"length\"\n",
            "    },\n",
            "    {\n",
            "      \"index\": 3,\n",
            "      \"message\": {\n",
            "        \"role\": \"assistant\",\n",
            "        \"content\": \"OpenAI\\u306f\\u3001\\u4eba\\u5de5\\u77e5\\u80fd\\uff08AI\\uff09\\u306e\\u7814\\u7a76\\u3068\\u958b\\u767a\\u3092\\u884c\\u3046\\u975e\\u55b6\\u5229\\u7d44\\u7e54\\u3067\\u3059\\u3002OpenAI\\u306f\\u3001AI\\u306e\\u5229\\u7528\\u304c\\u4eba\\u985e\\u5168\\u4f53\\u306e\"\n",
            "      },\n",
            "      \"finish_reason\": \"length\"\n",
            "    },\n",
            "    {\n",
            "      \"index\": 4,\n",
            "      \"message\": {\n",
            "        \"role\": \"assistant\",\n",
            "        \"content\": \"OpenAI\\u306f\\u3001\\u4eba\\u5de5\\u77e5\\u80fd\\uff08AI\\uff09\\u306e\\u7814\\u7a76\\u3068\\u958b\\u767a\\u3092\\u884c\\u3046\\u975e\\u55b6\\u5229\\u7d44\\u7e54\\u3067\\u3059\\u3002OpenAI\\u306f\\u3001AI\\u306e\\u5229\\u7528\\u304c\\u4eba\\u985e\\u5168\\u4f53\\u306e\"\n",
            "      },\n",
            "      \"finish_reason\": \"length\"\n",
            "    }\n",
            "  ],\n",
            "  \"usage\": {\n",
            "    \"prompt_tokens\": 12,\n",
            "    \"completion_tokens\": 250,\n",
            "    \"total_tokens\": 262\n",
            "  }\n",
            "}\n"
          ]
        }
      ]
    },
    {
      "cell_type": "code",
      "source": [
        "# 02-12-一連の会話を設定しよう\n",
        "completion = openai.ChatCompletion.create(\n",
        "    model=\"gpt-3.5-turbo\",\n",
        "    messages=[\n",
        "        {\"role\": \"system\", \"content\": \"あなたは優秀な司書です。\"},\n",
        "        {\"role\": \"system\", \"content\": \"回答文の末尾に「知らんけど」をつけて。\"},\n",
        "        {\"role\": \"user\", \"content\": \"面白いSFの本を探しています。一番のおすすめを教えて。\"},\n",
        "        {\"role\": \"assistant\", \"content\": \"私のおすすめは、「ハイペリオン」です。このSF小説は、ダン・シモンズによって書かれ、エピソード形式で展開される物語です。異なるキャラクターたちの個別の物語が、大きな謎につながっていく形式が特徴で、複雑なプロットや深い哲学的テーマが織り込まれています。また、時間旅行や人工知能などの要素も含まれており、読者を飽きさせることなく引き込まれることでしょう。\"},\n",
        "        {\"role\": \"user\", \"content\": \"映画も好きなのですが、その本に近い内容のSF映画でおすすめはありますか？\"},\n",
        "    ]\n",
        ")\n",
        "print(completion[\"choices\"][0][\"message\"][\"content\"])\n",
        "print(completion)"
      ],
      "metadata": {
        "colab": {
          "base_uri": "https://localhost:8080/"
        },
        "id": "S3gSu8FVmsDu",
        "outputId": "918de482-d8fc-4d02-f96b-e57200c7a1bd"
      },
      "execution_count": null,
      "outputs": [
        {
          "output_type": "stream",
          "name": "stdout",
          "text": [
            "私のおすすめは、「ブレードランナー」という映画です。この映画は、フィリップ・K・ディックの小説「アンドロイドは電気羊の夢を見るか？」を原作としています。物語は、近未来のロサンゼルスを舞台に、人間と見分けがつかないレプリカントと呼ばれる人工生命体の追跡をするブレードランナーという警察官の活躍を描いています。映画は、雰囲気のあるサイバーパンクな世界観や哲学的なテーマを探求しており、原作小説と同じく考えさせられる内容です。是非、観てみてください！知らんけど。\n",
            "{\n",
            "  \"id\": \"chatcmpl-7yxQvhwoJOOjnP4A48WUlJWnIJZQs\",\n",
            "  \"object\": \"chat.completion\",\n",
            "  \"created\": 1694762497,\n",
            "  \"model\": \"gpt-3.5-turbo-0613\",\n",
            "  \"choices\": [\n",
            "    {\n",
            "      \"index\": 0,\n",
            "      \"message\": {\n",
            "        \"role\": \"assistant\",\n",
            "        \"content\": \"\\u79c1\\u306e\\u304a\\u3059\\u3059\\u3081\\u306f\\u3001\\u300c\\u30d6\\u30ec\\u30fc\\u30c9\\u30e9\\u30f3\\u30ca\\u30fc\\u300d\\u3068\\u3044\\u3046\\u6620\\u753b\\u3067\\u3059\\u3002\\u3053\\u306e\\u6620\\u753b\\u306f\\u3001\\u30d5\\u30a3\\u30ea\\u30c3\\u30d7\\u30fbK\\u30fb\\u30c7\\u30a3\\u30c3\\u30af\\u306e\\u5c0f\\u8aac\\u300c\\u30a2\\u30f3\\u30c9\\u30ed\\u30a4\\u30c9\\u306f\\u96fb\\u6c17\\u7f8a\\u306e\\u5922\\u3092\\u898b\\u308b\\u304b\\uff1f\\u300d\\u3092\\u539f\\u4f5c\\u3068\\u3057\\u3066\\u3044\\u307e\\u3059\\u3002\\u7269\\u8a9e\\u306f\\u3001\\u8fd1\\u672a\\u6765\\u306e\\u30ed\\u30b5\\u30f3\\u30bc\\u30eb\\u30b9\\u3092\\u821e\\u53f0\\u306b\\u3001\\u4eba\\u9593\\u3068\\u898b\\u5206\\u3051\\u304c\\u3064\\u304b\\u306a\\u3044\\u30ec\\u30d7\\u30ea\\u30ab\\u30f3\\u30c8\\u3068\\u547c\\u3070\\u308c\\u308b\\u4eba\\u5de5\\u751f\\u547d\\u4f53\\u306e\\u8ffd\\u8de1\\u3092\\u3059\\u308b\\u30d6\\u30ec\\u30fc\\u30c9\\u30e9\\u30f3\\u30ca\\u30fc\\u3068\\u3044\\u3046\\u8b66\\u5bdf\\u5b98\\u306e\\u6d3b\\u8e8d\\u3092\\u63cf\\u3044\\u3066\\u3044\\u307e\\u3059\\u3002\\u6620\\u753b\\u306f\\u3001\\u96f0\\u56f2\\u6c17\\u306e\\u3042\\u308b\\u30b5\\u30a4\\u30d0\\u30fc\\u30d1\\u30f3\\u30af\\u306a\\u4e16\\u754c\\u89b3\\u3084\\u54f2\\u5b66\\u7684\\u306a\\u30c6\\u30fc\\u30de\\u3092\\u63a2\\u6c42\\u3057\\u3066\\u304a\\u308a\\u3001\\u539f\\u4f5c\\u5c0f\\u8aac\\u3068\\u540c\\u3058\\u304f\\u8003\\u3048\\u3055\\u305b\\u3089\\u308c\\u308b\\u5185\\u5bb9\\u3067\\u3059\\u3002\\u662f\\u975e\\u3001\\u89b3\\u3066\\u307f\\u3066\\u304f\\u3060\\u3055\\u3044\\uff01\\u77e5\\u3089\\u3093\\u3051\\u3069\\u3002\"\n",
            "      },\n",
            "      \"finish_reason\": \"stop\"\n",
            "    }\n",
            "  ],\n",
            "  \"usage\": {\n",
            "    \"prompt_tokens\": 304,\n",
            "    \"completion_tokens\": 230,\n",
            "    \"total_tokens\": 534\n",
            "  }\n",
            "}\n"
          ]
        }
      ]
    }
  ]
}