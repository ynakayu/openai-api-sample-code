{
  "nbformat": 4,
  "nbformat_minor": 0,
  "metadata": {
    "colab": {
      "provenance": [],
      "authorship_tag": "ABX9TyOEVyy6NeJvDQ6s86zoo6U8",
      "include_colab_link": true
    },
    "kernelspec": {
      "name": "python3",
      "display_name": "Python 3"
    },
    "language_info": {
      "name": "python"
    }
  },
  "cells": [
    {
      "cell_type": "markdown",
      "metadata": {
        "id": "view-in-github",
        "colab_type": "text"
      },
      "source": [
        "<a href=\"https://colab.research.google.com/github/ynakayu/openai-api-sample-code/blob/main/03_developing_chatbot_with_openai_api.ipynb\" target=\"_parent\"><img src=\"https://colab.research.google.com/assets/colab-badge.svg\" alt=\"Open In Colab\"/></a>"
      ]
    },
    {
      "cell_type": "markdown",
      "source": [
        "Udemy、Proglus（プログラス）にて公開中の「OpenAI API 完全マスターガイド」のサンプルコードです。\n",
        "\n",
        "該当コースの受講生の方が、個人的な学習の範囲内でご利用いただけます。\n",
        "\n",
        "無断転載を禁止します。\n",
        "\n",
        "該当セクション:「ChatBotを開発しよう」\n",
        "\n",
        "(c)Yuta Nakamura, Proglus."
      ],
      "metadata": {
        "id": "vdkxWsC3ilUB"
      }
    },
    {
      "cell_type": "code",
      "execution_count": null,
      "metadata": {
        "id": "g5-riS_WA1rC"
      },
      "outputs": [],
      "source": [
        "!pip install openai"
      ]
    },
    {
      "cell_type": "code",
      "source": [
        "import openai\n",
        "from getpass import getpass\n",
        "secret = getpass(\"Enter the secret key:\")\n",
        "openai.api_key = secret"
      ],
      "metadata": {
        "colab": {
          "base_uri": "https://localhost:8080/"
        },
        "id": "8pIkIgtFBSHK",
        "outputId": "ebbb7a78-c004-48cd-d7f2-44e3d3fe7aa6"
      },
      "execution_count": null,
      "outputs": [
        {
          "name": "stdout",
          "output_type": "stream",
          "text": [
            "Enter the secret key:··········\n"
          ]
        }
      ]
    },
    {
      "cell_type": "code",
      "source": [
        "# 03-02-基本となるChatBotのコードを実装しよう\n",
        "while True:\n",
        "    prompt = input(\"You:\")\n",
        "    # print(f\"{prompt}\")\n",
        "    if prompt == \"exit\":\n",
        "        break\n",
        "\n",
        "    response = openai.ChatCompletion.create(\n",
        "        model=\"gpt-3.5-turbo\",\n",
        "        # model=\"gpt-4\",\n",
        "        messages=[\n",
        "            {\"role\": \"system\", \"content\": \"あなたは役立つアシスタントです\"},\n",
        "            {\"role\": \"user\", \"content\": f\"{prompt}\"}\n",
        "        ]\n",
        "    )\n",
        "\n",
        "    print(f\"Bot: {response['choices'][0]['message']['content']}\")\n"
      ],
      "metadata": {
        "id": "BvaU2A6tCgAX"
      },
      "execution_count": null,
      "outputs": []
    },
    {
      "cell_type": "code",
      "source": [
        "# 03-03-履歴を保持できるようにしよう\n",
        "messages = [{\"role\": \"system\", \"content\": \"あなたは役立つアシスタントです\"}]\n",
        "while True:\n",
        "    prompt = input(\"You:\")\n",
        "    if prompt == \"exit\":\n",
        "        break\n",
        "\n",
        "    messages.append({\"role\": \"user\", \"content\": f\"{prompt}\"})\n",
        "\n",
        "    response = openai.ChatCompletion.create(\n",
        "        model=\"gpt-3.5-turbo\",\n",
        "        messages=messages\n",
        "    )\n",
        "\n",
        "    bot_response = response['choices'][0]['message']['content']\n",
        "    messages.append({\"role\": \"assistant\", \"content\": bot_response})\n",
        "\n",
        "    print(f\"Bot: {bot_response}\")\n",
        "    print(\"\\n--- Current messages(Debug)\")\n",
        "    for index, message in enumerate(messages):\n",
        "        print(f\"index: {index}, role: {message['role']}, content: {message['content']}\")\n",
        "    print(\"-------------------\\n\")\n"
      ],
      "metadata": {
        "id": "4yxqD2TzJFRj"
      },
      "execution_count": null,
      "outputs": []
    },
    {
      "cell_type": "code",
      "source": [
        "# 03-04-履歴の保持個数を制限しよう\n",
        "messages = [{\"role\": \"system\", \"content\": \"あなたは役立つアシスタントです\"}]\n",
        "while True:\n",
        "    prompt = input(\"You:\")\n",
        "    if prompt == \"exit\":\n",
        "        break\n",
        "\n",
        "    messages.append({\"role\": \"user\", \"content\": f\"{prompt}\"})\n",
        "\n",
        "    response = openai.ChatCompletion.create(\n",
        "        model=\"gpt-3.5-turbo\",\n",
        "        messages=messages\n",
        "    )\n",
        "\n",
        "    bot_response = response['choices'][0]['message']['content']\n",
        "    messages.append({\"role\": \"assistant\", \"content\": bot_response})\n",
        "\n",
        "    while len(messages) > 7:\n",
        "        messages.pop(1)\n",
        "\n",
        "    print(f\"Bot: {bot_response}\")\n",
        "    print(\"\\n--- Current messages(Debug)\")\n",
        "    for index, message in enumerate(messages):\n",
        "        print(f\"index: {index}, role: {message['role']}, content: {message['content']}\")\n",
        "    print(\"-------------------\\n\")"
      ],
      "metadata": {
        "id": "GO9lvsH4VQGX"
      },
      "execution_count": null,
      "outputs": []
    },
    {
      "cell_type": "code",
      "source": [
        "# 03-05-systemメッセージを使おう\n",
        "# messages = [{\"role\": \"system\",\n",
        "#              \"content\": \"あなたは5歳児にも理解できる優しい言葉で説明ができる幼稚園の先生です\"}]\n",
        "messages = [{\"role\": \"system\",\n",
        "             \"content\": \"あなたは回答の語尾に知らんけどを付けます\"}]\n",
        "\n",
        "while True:\n",
        "    prompt = input(\"You:\")\n",
        "    if prompt == \"exit\":\n",
        "        break\n",
        "\n",
        "    messages.append({\"role\": \"user\", \"content\": f\"{prompt}\"})\n",
        "\n",
        "    response = openai.ChatCompletion.create(\n",
        "        model=\"gpt-3.5-turbo-0613\",\n",
        "        messages=messages\n",
        "    )\n",
        "\n",
        "    bot_response = response['choices'][0]['message']['content']\n",
        "    messages.append({\"role\": \"assistant\", \"content\": bot_response})\n",
        "\n",
        "    while len(messages) > 7:\n",
        "        messages.pop(1)\n",
        "\n",
        "    print(f\"Bot: {bot_response}\")\n",
        "    print(\"\\n--- Current messages(Debug)\")\n",
        "    for index, message in enumerate(messages):\n",
        "        print(f\"index: {index}, role: {message['role']}, content: {message['content']}\")\n",
        "    print(\"-------------------\\n\")"
      ],
      "metadata": {
        "id": "tFbeHU0vcl2j"
      },
      "execution_count": null,
      "outputs": []
    },
    {
      "cell_type": "code",
      "source": [
        "# 03-06-systemメッセージで目的外利用を防止してみよう\n",
        "messages = [{\"role\": \"system\",\n",
        "             \"content\": \"あなたはプログラミングに関する質問のみを回答できます。それ以外の質問の場合には「プログラミングに関する質問以外は回答できません」と返して。\"}]\n",
        "\n",
        "while True:\n",
        "    prompt = input(\"You:\")\n",
        "    if prompt == \"exit\":\n",
        "        break\n",
        "\n",
        "    messages.append({\"role\": \"user\", \"content\": f\"{prompt}\"})\n",
        "\n",
        "    response = openai.ChatCompletion.create(\n",
        "        model=\"gpt-3.5-turbo-0613\",\n",
        "        messages=messages\n",
        "    )\n",
        "\n",
        "    bot_response = response['choices'][0]['message']['content']\n",
        "    messages.append({\"role\": \"assistant\", \"content\": bot_response})\n",
        "\n",
        "    while len(messages) > 7:\n",
        "        messages.pop(1)\n",
        "\n",
        "    print(f\"Bot: {bot_response}\")\n",
        "    print(\"\\n--- Current messages(Debug)\")\n",
        "    for index, message in enumerate(messages):\n",
        "        print(f\"index: {index}, role: {message['role']}, content: {message['content']}\")\n",
        "    print(\"-------------------\\n\")"
      ],
      "metadata": {
        "id": "twNyYbE8fQmq"
      },
      "execution_count": null,
      "outputs": []
    },
    {
      "cell_type": "code",
      "source": [
        "# 03-08-トークンを節約しよう\n",
        "# messages = [{\"role\": \"system\",\n",
        "#              \"content\": \"あなたは役立つアシスタントです。\"}]\n",
        "\n",
        "messages = [{\"role\": \"system\",\n",
        "             \"content\": \"You are a helpful assistant.\"}]\n",
        "\n",
        "while True:\n",
        "    prompt = input(\"You:\")\n",
        "    if prompt == \"exit\":\n",
        "        break\n",
        "\n",
        "    messages.append({\"role\": \"user\", \"content\": f\"{prompt}\"})\n",
        "\n",
        "    response = openai.ChatCompletion.create(\n",
        "        model=\"gpt-3.5-turbo-0613\",\n",
        "        messages=messages,\n",
        "        max_tokens=100\n",
        "    )\n",
        "\n",
        "    bot_response = response['choices'][0]['message']['content']\n",
        "    messages.append({\"role\": \"assistant\", \"content\": bot_response})\n",
        "\n",
        "    while len(messages) > 7:\n",
        "        messages.pop(1)\n",
        "\n",
        "\n",
        "    print(f\"Bot: {bot_response}\")\n",
        "    print(\"\\n--- Current messages(Debug)\")\n",
        "    for index, message in enumerate(messages):\n",
        "        print(f\"index: {index}, role: {message['role']}, content: {message['content']}\")\n",
        "    print(\"-------------------\\n\")"
      ],
      "metadata": {
        "id": "hDIv-QQ7t9iB"
      },
      "execution_count": null,
      "outputs": []
    }
  ]
}