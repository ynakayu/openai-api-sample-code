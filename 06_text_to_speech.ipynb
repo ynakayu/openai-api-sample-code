{
  "nbformat": 4,
  "nbformat_minor": 0,
  "metadata": {
    "colab": {
      "provenance": [],
      "authorship_tag": "ABX9TyOfJ+MMoZ9w7evDuYWUhGyq",
      "include_colab_link": true
    },
    "kernelspec": {
      "name": "python3",
      "display_name": "Python 3"
    },
    "language_info": {
      "name": "python"
    }
  },
  "cells": [
    {
      "cell_type": "markdown",
      "metadata": {
        "id": "view-in-github",
        "colab_type": "text"
      },
      "source": [
        "<a href=\"https://colab.research.google.com/github/ynakayu/openai-api-sample-code/blob/main/06_text_to_speech.ipynb\" target=\"_parent\"><img src=\"https://colab.research.google.com/assets/colab-badge.svg\" alt=\"Open In Colab\"/></a>"
      ]
    },
    {
      "cell_type": "code",
      "execution_count": null,
      "metadata": {
        "id": "6VDsNWCSgZqx"
      },
      "outputs": [],
      "source": [
        "!pip install openai\n",
        "import openai\n",
        "from pathlib import Path\n",
        "from getpass import getpass\n",
        "secret = getpass('Enter the secret key:')\n",
        "openai.api_key = secret"
      ]
    },
    {
      "cell_type": "code",
      "source": [
        "# 06-02-テキストからスピーチさせてみよう\n",
        "response = openai.audio.speech.create(\n",
        "    model=\"tts-1\",\n",
        "    voice=\"alloy\",\n",
        "    # input=\"It's fine today.\"\n",
        "    input=\"本日は晴天なり。\"\n",
        ")\n",
        "\n",
        "response.stream_to_file(\"./speech.mp3\")"
      ],
      "metadata": {
        "id": "l3KtswLLhlzt"
      },
      "execution_count": null,
      "outputs": []
    },
    {
      "cell_type": "code",
      "source": [
        "# 06-03-より長いテキストをスピーチさせてみよう\n",
        "text = \"\"\"\n",
        "こんにちは中村祐太です。\n",
        "この動画では、OpenAI DevDay 2023で発表された、\n",
        "Text to speech APIについて、その使用方法を実演しながら詳しく説明します。\n",
        "日本語で言うと、音声合成を提供する機能です。\n",
        "この技術は、人間のように自然で表現豊かな音声を生成することを目的としています。\n",
        "この動画を最後までご覧いただくと、Text to speech APIを使用して何ができるか、\n",
        "そしてそのAPIの使い方を短時間で把握できますので、ぜひ最後までご覧ください。\n",
        "\"\"\"\n",
        "response = openai.audio.speech.create(\n",
        "    model=\"tts-1\",\n",
        "    voice=\"alloy\",\n",
        "    input=text\n",
        ")\n",
        "\n",
        "response.stream_to_file(\"./speech.mp3\")"
      ],
      "metadata": {
        "id": "mrfk5HXJj5Qi"
      },
      "execution_count": null,
      "outputs": []
    },
    {
      "cell_type": "code",
      "source": [
        "# 06-04-使用する音声のタイプを指定しよう\n",
        "text = \"\"\"\n",
        "こんにちは中村祐太です。\n",
        "この動画では、OpenAI DevDay 2023で発表された、\n",
        "Text to speech APIについて、その使用方法を実演しながら詳しく説明します。\n",
        "日本語で言うと、音声合成を提供する機能です。\n",
        "この技術は、人間のように自然で表現豊かな音声を生成することを目的としています。\n",
        "この動画を最後までご覧いただくと、Text to speech APIを使用して何ができるか、\n",
        "そしてそのAPIの使い方を短時間で把握できますので、ぜひ最後までご覧ください。\n",
        "\"\"\"\n",
        "response = openai.audio.speech.create(\n",
        "    model=\"tts-1\",\n",
        "    voice=\"nova\",\n",
        "    input=text\n",
        ")\n",
        "\n",
        "response.stream_to_file(\"./speech.mp3\")"
      ],
      "metadata": {
        "id": "yk9ALuuWoVRW"
      },
      "execution_count": null,
      "outputs": []
    },
    {
      "cell_type": "code",
      "source": [
        "# 06-05-スピーチの速度を指定しよう\n",
        "text = \"\"\"\n",
        "こんにちは中村祐太です。\n",
        "この動画では、OpenAI DevDay 2023で発表された、\n",
        "Text to speech APIについて、その使用方法を実演しながら詳しく説明します。\n",
        "日本語で言うと、音声合成を提供する機能です。\n",
        "この技術は、人間のように自然で表現豊かな音声を生成することを目的としています。\n",
        "この動画を最後までご覧いただくと、Text to speech APIを使用して何ができるか、\n",
        "そしてそのAPIの使い方を短時間で把握できますので、ぜひ最後までご覧ください。\n",
        "\"\"\"\n",
        "response = openai.audio.speech.create(\n",
        "    model=\"tts-1\",\n",
        "    voice=\"nova\",\n",
        "    input=text,\n",
        "    # speed=\"2.0\"\n",
        "    speed=\"0.5\"\n",
        ")\n",
        "\n",
        "response.stream_to_file(\"./speech.mp3\")"
      ],
      "metadata": {
        "id": "3eCZlQ-XrcZ9"
      },
      "execution_count": null,
      "outputs": []
    },
    {
      "cell_type": "code",
      "source": [
        "# 06-06-音声合成モデルを指定しよう\n",
        "text = \"\"\"\n",
        "こんにちは中村ゆうたです。\n",
        "この動画では、OpenAI DevDay 2023で発表された、\n",
        "Text to speech APIについて、その使用方法を実演しながら詳しく説明します。\n",
        "日本語で言うと、音声合成を提供する機能です。\n",
        "この技術は、人間のように自然で表現豊かな音声を生成することを目的としています。\n",
        "この動画を最後までご覧いただくと、Text to speech APIを使用して何ができるか、\n",
        "そしてそのAPIの使い方を短時間で把握できますので、ぜひ最後までご覧ください。\n",
        "\"\"\"\n",
        "response = openai.audio.speech.create(\n",
        "    # model=\"tts-1-hd\",\n",
        "    model=\"tts-1\",\n",
        "    voice=\"alloy\",\n",
        "    input=text,\n",
        "    speed=\"1.0\"\n",
        ")\n",
        "\n",
        "response.stream_to_file(\"./speech.mp3\")"
      ],
      "metadata": {
        "id": "sKZJJOwOuT4q"
      },
      "execution_count": null,
      "outputs": []
    },
    {
      "cell_type": "code",
      "source": [
        "# 06-07-音声ファイルのフォーマットを指定しよう\n",
        "text = \"\"\"\n",
        "本日は晴天なり\n",
        "\"\"\"\n",
        "response = openai.audio.speech.create(\n",
        "    model=\"tts-1\",\n",
        "    voice=\"alloy\",\n",
        "    input=text,\n",
        "    speed=\"1.0\",\n",
        "    response_format=\"aac\"\n",
        ")\n",
        "\n",
        "response.stream_to_file(\"./speech.aac\")"
      ],
      "metadata": {
        "id": "G1zAOReVyabV"
      },
      "execution_count": null,
      "outputs": []
    }
  ]
}